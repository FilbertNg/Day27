{
 "cells": [
  {
   "cell_type": "code",
   "execution_count": 1,
   "id": "909bc397-d15c-427d-9ecf-142e81a9a7dd",
   "metadata": {},
   "outputs": [],
   "source": [
    "import mlflow\n",
    "\n",
    "from sklearn.model_selection import train_test_split\n",
    "from sklearn.datasets import load_diabetes\n"
   ]
  },
  {
   "cell_type": "code",
   "execution_count": 2,
   "id": "89658a66-4176-4b1c-b6ce-77ac1cb1de6d",
   "metadata": {},
   "outputs": [],
   "source": [
    "mlflow.set_tracking_uri('http://mlflow-web:5000')"
   ]
  },
  {
   "cell_type": "code",
   "execution_count": 3,
   "id": "4a8ebab3-e95c-4082-9dcc-b7f1de869df1",
   "metadata": {},
   "outputs": [
    {
     "data": {
      "application/vnd.jupyter.widget-view+json": {
       "model_id": "02a7d9d148a64639baa0e3ff3a5c94e5",
       "version_major": 2,
       "version_minor": 0
      },
      "text/plain": [
       "Downloading artifacts:   0%|          | 0/5 [00:00<?, ?it/s]"
      ]
     },
     "metadata": {},
     "output_type": "display_data"
    },
    {
     "name": "stdout",
     "output_type": "stream",
     "text": [
      "[ 90.64216486  85.82435111 138.8006416  195.64204199 129.62686974\n",
      "  94.00696951 256.16020868 132.78105261 119.56213976 165.07266182\n",
      " 221.99186913 171.99362129 124.26047992 105.79219498  95.05864933\n",
      " 209.98597174 244.37425348  77.79508553 118.27322592 174.17327824\n",
      " 206.84963145  90.74387824 103.02797876  95.27755742  99.10095765\n",
      " 183.511745    88.61538695 116.1888962  149.56763025 231.40995185\n",
      " 134.15012804 253.93944674 114.61544963 200.02137741 162.74549078\n",
      " 180.79847445  94.17075974  91.18119809 106.28588593  85.41628325\n",
      " 149.52985523 158.52092987 236.15262555 186.58781251 244.05308993\n",
      "  89.91396725 133.48428242 179.1245551  233.47277355  79.44504927\n",
      " 208.94494854 165.59705392  92.41396879 106.08738817  99.5708035\n",
      " 100.43846566 166.45650817 101.43517473 133.00939654 108.72353244\n",
      "  98.03874527 164.37138909 194.71221331  82.79838294 183.95502082\n",
      "  84.74742786 251.91363714 172.77315816  98.43749378 183.10675708\n",
      " 158.90478048 224.57491694 150.68090487 204.50813276  79.43940537\n",
      "  96.62656018 159.4841113  259.00722327 214.59674268 111.91018462\n",
      " 176.23278992 130.61228629 129.88671442 147.38895939 143.96203461\n",
      " 134.30926153 227.84112594 221.29755241 219.23122866 234.99623043\n",
      " 113.16547114 118.85173271 178.83942481 121.88723918 172.41084006\n",
      " 118.8224369  172.46985695 219.75751864 145.10273729 203.76529725\n",
      "  93.05114306 133.97905249 172.37481814 184.17372737 248.21170983\n",
      " 139.75999133 213.76875914 126.68518019  91.94887252 209.70772356\n",
      " 107.63532947]\n"
     ]
    }
   ],
   "source": [
    "db = load_diabetes()\n",
    "X_train, X_test, y_train, y_test = train_test_split(db.data, db.target)\n",
    "\n",
    "model_name = \"Diabetes Model\"\n",
    "#stage = \"Production\"\n",
    "model = mlflow.sklearn.load_model(model_uri=f\"models:/{model_name}/1\")\n",
    "predictions = model.predict(X_test)\n",
    "print(predictions)"
   ]
  },
  {
   "cell_type": "code",
   "execution_count": null,
   "id": "d6091e29-3979-476f-9ea6-2116a2f2e994",
   "metadata": {},
   "outputs": [],
   "source": []
  }
 ],
 "metadata": {
  "kernelspec": {
   "display_name": "Python 3 (ipykernel)",
   "language": "python",
   "name": "python3"
  },
  "language_info": {
   "codemirror_mode": {
    "name": "ipython",
    "version": 3
   },
   "file_extension": ".py",
   "mimetype": "text/x-python",
   "name": "python",
   "nbconvert_exporter": "python",
   "pygments_lexer": "ipython3",
   "version": "3.11.6"
  }
 },
 "nbformat": 4,
 "nbformat_minor": 5
}
